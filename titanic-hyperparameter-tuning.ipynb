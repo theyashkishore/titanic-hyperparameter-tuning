{
 "cells": [
  {
   "cell_type": "markdown",
   "metadata": {},
   "source": [
    "# Titanic - Hyperparameter tuning with GridSearchCV\n",
    "\n",
    "![](https://storage.googleapis.com/kaggle-competitions/kaggle/3136/logos/header.png)"
   ]
  },
  {
   "cell_type": "markdown",
   "metadata": {},
   "source": [
    "<a id=\"top\"></a>\n",
    "\n",
    "<div class=\"list-group\" id=\"list-tab\" role=\"tablist\">\n",
    "<h3 class=\"list-group-item list-group-item-action active\" data-toggle=\"list\" style='background:#7ca4cd; border:0' role=\"tab\" aria-controls=\"home\"><center>Quick Navigation</center></h3>\n",
    "\n",
    "* [1. Data loading and feature engineering](#1)\n",
    "* [2. Decision Tree](#2)\n",
    "* [3. Random Forest](#3)\n",
    "* [4. AdaBoost](#4)\n",
    "* [5. XGBoost](#5)\n",
    "* [6. LightGBM](#6)\n",
    "* [7. CatBoost](#7)\n",
    "* [8. Logistic Regression](#8)\n",
    "* [9. SVC](#9)\n",
    "* [10. K-Nearest Neighbors](#10)\n",
    "* [Submission](#100)"
   ]
  },
  {
   "cell_type": "code",
   "execution_count": 1,
   "metadata": {
    "_cell_guid": "b1076dfc-b9ad-4769-8c92-a6c4dae69d19",
    "_uuid": "8f2839f25d086af736a60e9eeb907d3b93b6e0e5",
    "execution": {
     "iopub.execute_input": "2023-10-31T07:46:09.621606Z",
     "iopub.status.busy": "2023-10-31T07:46:09.621079Z",
     "iopub.status.idle": "2023-10-31T07:46:12.094347Z",
     "shell.execute_reply": "2023-10-31T07:46:12.093138Z",
     "shell.execute_reply.started": "2023-10-31T07:46:09.621532Z"
    }
   },
   "outputs": [],
   "source": [
    "import os\n",
    "import random\n",
    "\n",
    "import numpy as np\n",
    "import pandas as pd\n",
    "import matplotlib.pyplot as plt\n",
    "import seaborn as sns\n",
    "import xgboost as xgb\n",
    "import lightgbm as lgbm\n",
    "import catboost as cb\n",
    "from sklearn.model_selection import train_test_split, GridSearchCV\n",
    "from sklearn.metrics import accuracy_score\n",
    "from sklearn.tree import DecisionTreeClassifier\n",
    "from sklearn.ensemble import RandomForestClassifier\n",
    "from sklearn.preprocessing import LabelEncoder\n",
    "from sklearn.preprocessing import StandardScaler\n",
    "from sklearn.linear_model import LogisticRegression\n",
    "from sklearn.svm import SVC\n",
    "from sklearn.ensemble import AdaBoostClassifier\n",
    "from sklearn.neighbors import KNeighborsClassifier"
   ]
  },
  {
   "cell_type": "code",
   "execution_count": 2,
   "metadata": {
    "execution": {
     "iopub.execute_input": "2023-10-31T07:46:12.098401Z",
     "iopub.status.busy": "2023-10-31T07:46:12.097830Z",
     "iopub.status.idle": "2023-10-31T07:46:12.105965Z",
     "shell.execute_reply": "2023-10-31T07:46:12.104761Z",
     "shell.execute_reply.started": "2023-10-31T07:46:12.098272Z"
    }
   },
   "outputs": [],
   "source": [
    "def set_seed(seed_value):\n",
    "    random.seed(seed_value)\n",
    "    np.random.seed(seed_value)\n",
    "    os.environ[\"PYTHONHASHSEED\"] = str(seed_value)\n",
    "    \n",
    "\n",
    "SEED = 42\n",
    "set_seed(SEED)"
   ]
  },
  {
   "cell_type": "markdown",
   "metadata": {},
   "source": [
    "<a id=\"1\"></a>\n",
    "<h2 style='background:#7ca4cd; border:0; color:white'><center>Data loading and feature engineering<center><h2>"
   ]
  },
  {
   "cell_type": "code",
   "execution_count": 3,
   "metadata": {
    "_cell_guid": "79c7e3d0-c299-4dcb-8224-4455121ee9b0",
    "_uuid": "d629ff2d2480ee46fbb7e2d37f6b5fab8052498a",
    "execution": {
     "iopub.execute_input": "2023-10-31T07:46:12.109218Z",
     "iopub.status.busy": "2023-10-31T07:46:12.108511Z",
     "iopub.status.idle": "2023-10-31T07:46:12.149872Z",
     "shell.execute_reply": "2023-10-31T07:46:12.148587Z",
     "shell.execute_reply.started": "2023-10-31T07:46:12.109111Z"
    }
   },
   "outputs": [],
   "source": [
    "train_df = pd.read_csv(\"../input/train.csv\")\n",
    "test_df = pd.read_csv(\"../input/test.csv\")"
   ]
  },
  {
   "cell_type": "markdown",
   "metadata": {},
   "source": [
    "Check train samples"
   ]
  },
  {
   "cell_type": "code",
   "execution_count": 4,
   "metadata": {
    "execution": {
     "iopub.execute_input": "2023-10-31T07:46:12.152882Z",
     "iopub.status.busy": "2023-10-31T07:46:12.152287Z",
     "iopub.status.idle": "2023-10-31T07:46:12.201129Z",
     "shell.execute_reply": "2023-10-31T07:46:12.200099Z",
     "shell.execute_reply.started": "2023-10-31T07:46:12.152791Z"
    }
   },
   "outputs": [
    {
     "name": "stdout",
     "output_type": "stream",
     "text": [
      "Train shape: (891, 12)\n"
     ]
    },
    {
     "data": {
      "text/html": [
       "<div>\n",
       "<style scoped>\n",
       "    .dataframe tbody tr th:only-of-type {\n",
       "        vertical-align: middle;\n",
       "    }\n",
       "\n",
       "    .dataframe tbody tr th {\n",
       "        vertical-align: top;\n",
       "    }\n",
       "\n",
       "    .dataframe thead th {\n",
       "        text-align: right;\n",
       "    }\n",
       "</style>\n",
       "<table border=\"1\" class=\"dataframe\">\n",
       "  <thead>\n",
       "    <tr style=\"text-align: right;\">\n",
       "      <th></th>\n",
       "      <th>PassengerId</th>\n",
       "      <th>Survived</th>\n",
       "      <th>Pclass</th>\n",
       "      <th>Name</th>\n",
       "      <th>Sex</th>\n",
       "      <th>Age</th>\n",
       "      <th>SibSp</th>\n",
       "      <th>Parch</th>\n",
       "      <th>Ticket</th>\n",
       "      <th>Fare</th>\n",
       "      <th>Cabin</th>\n",
       "      <th>Embarked</th>\n",
       "    </tr>\n",
       "  </thead>\n",
       "  <tbody>\n",
       "    <tr>\n",
       "      <td>709</td>\n",
       "      <td>710</td>\n",
       "      <td>1</td>\n",
       "      <td>3</td>\n",
       "      <td>Moubarek, Master. Halim Gonios (\"William George\")</td>\n",
       "      <td>male</td>\n",
       "      <td>NaN</td>\n",
       "      <td>1</td>\n",
       "      <td>1</td>\n",
       "      <td>2661</td>\n",
       "      <td>15.2458</td>\n",
       "      <td>NaN</td>\n",
       "      <td>C</td>\n",
       "    </tr>\n",
       "    <tr>\n",
       "      <td>439</td>\n",
       "      <td>440</td>\n",
       "      <td>0</td>\n",
       "      <td>2</td>\n",
       "      <td>Kvillner, Mr. Johan Henrik Johannesson</td>\n",
       "      <td>male</td>\n",
       "      <td>31.0</td>\n",
       "      <td>0</td>\n",
       "      <td>0</td>\n",
       "      <td>C.A. 18723</td>\n",
       "      <td>10.5000</td>\n",
       "      <td>NaN</td>\n",
       "      <td>S</td>\n",
       "    </tr>\n",
       "    <tr>\n",
       "      <td>840</td>\n",
       "      <td>841</td>\n",
       "      <td>0</td>\n",
       "      <td>3</td>\n",
       "      <td>Alhomaki, Mr. Ilmari Rudolf</td>\n",
       "      <td>male</td>\n",
       "      <td>20.0</td>\n",
       "      <td>0</td>\n",
       "      <td>0</td>\n",
       "      <td>SOTON/O2 3101287</td>\n",
       "      <td>7.9250</td>\n",
       "      <td>NaN</td>\n",
       "      <td>S</td>\n",
       "    </tr>\n",
       "  </tbody>\n",
       "</table>\n",
       "</div>"
      ],
      "text/plain": [
       "     PassengerId  Survived  Pclass  \\\n",
       "709          710         1       3   \n",
       "439          440         0       2   \n",
       "840          841         0       3   \n",
       "\n",
       "                                                  Name   Sex   Age  SibSp  \\\n",
       "709  Moubarek, Master. Halim Gonios (\"William George\")  male   NaN      1   \n",
       "439             Kvillner, Mr. Johan Henrik Johannesson  male  31.0      0   \n",
       "840                        Alhomaki, Mr. Ilmari Rudolf  male  20.0      0   \n",
       "\n",
       "     Parch            Ticket     Fare Cabin Embarked  \n",
       "709      1              2661  15.2458   NaN        C  \n",
       "439      0        C.A. 18723  10.5000   NaN        S  \n",
       "840      0  SOTON/O2 3101287   7.9250   NaN        S  "
      ]
     },
     "execution_count": 4,
     "metadata": {},
     "output_type": "execute_result"
    }
   ],
   "source": [
    "print(f\"Train shape: {train_df.shape}\")\n",
    "train_df.sample(3)"
   ]
  },
  {
   "cell_type": "markdown",
   "metadata": {},
   "source": [
    "Check test samples"
   ]
  },
  {
   "cell_type": "code",
   "execution_count": 5,
   "metadata": {
    "execution": {
     "iopub.execute_input": "2023-10-31T07:46:12.206097Z",
     "iopub.status.busy": "2023-10-31T07:46:12.205603Z",
     "iopub.status.idle": "2023-10-31T07:46:12.228348Z",
     "shell.execute_reply": "2023-10-31T07:46:12.226874Z",
     "shell.execute_reply.started": "2023-10-31T07:46:12.206017Z"
    }
   },
   "outputs": [
    {
     "name": "stdout",
     "output_type": "stream",
     "text": [
      "Test shape: (418, 11)\n"
     ]
    },
    {
     "data": {
      "text/html": [
       "<div>\n",
       "<style scoped>\n",
       "    .dataframe tbody tr th:only-of-type {\n",
       "        vertical-align: middle;\n",
       "    }\n",
       "\n",
       "    .dataframe tbody tr th {\n",
       "        vertical-align: top;\n",
       "    }\n",
       "\n",
       "    .dataframe thead th {\n",
       "        text-align: right;\n",
       "    }\n",
       "</style>\n",
       "<table border=\"1\" class=\"dataframe\">\n",
       "  <thead>\n",
       "    <tr style=\"text-align: right;\">\n",
       "      <th></th>\n",
       "      <th>PassengerId</th>\n",
       "      <th>Pclass</th>\n",
       "      <th>Name</th>\n",
       "      <th>Sex</th>\n",
       "      <th>Age</th>\n",
       "      <th>SibSp</th>\n",
       "      <th>Parch</th>\n",
       "      <th>Ticket</th>\n",
       "      <th>Fare</th>\n",
       "      <th>Cabin</th>\n",
       "      <th>Embarked</th>\n",
       "    </tr>\n",
       "  </thead>\n",
       "  <tbody>\n",
       "    <tr>\n",
       "      <td>20</td>\n",
       "      <td>912</td>\n",
       "      <td>1</td>\n",
       "      <td>Rothschild, Mr. Martin</td>\n",
       "      <td>male</td>\n",
       "      <td>55.00</td>\n",
       "      <td>1</td>\n",
       "      <td>0</td>\n",
       "      <td>PC 17603</td>\n",
       "      <td>59.40</td>\n",
       "      <td>NaN</td>\n",
       "      <td>C</td>\n",
       "    </tr>\n",
       "    <tr>\n",
       "      <td>338</td>\n",
       "      <td>1230</td>\n",
       "      <td>2</td>\n",
       "      <td>Denbury, Mr. Herbert</td>\n",
       "      <td>male</td>\n",
       "      <td>25.00</td>\n",
       "      <td>0</td>\n",
       "      <td>0</td>\n",
       "      <td>C.A. 31029</td>\n",
       "      <td>31.50</td>\n",
       "      <td>NaN</td>\n",
       "      <td>S</td>\n",
       "    </tr>\n",
       "    <tr>\n",
       "      <td>250</td>\n",
       "      <td>1142</td>\n",
       "      <td>2</td>\n",
       "      <td>West, Miss. Barbara J</td>\n",
       "      <td>female</td>\n",
       "      <td>0.92</td>\n",
       "      <td>1</td>\n",
       "      <td>2</td>\n",
       "      <td>C.A. 34651</td>\n",
       "      <td>27.75</td>\n",
       "      <td>NaN</td>\n",
       "      <td>S</td>\n",
       "    </tr>\n",
       "  </tbody>\n",
       "</table>\n",
       "</div>"
      ],
      "text/plain": [
       "     PassengerId  Pclass                    Name     Sex    Age  SibSp  Parch  \\\n",
       "20           912       1  Rothschild, Mr. Martin    male  55.00      1      0   \n",
       "338         1230       2    Denbury, Mr. Herbert    male  25.00      0      0   \n",
       "250         1142       2   West, Miss. Barbara J  female   0.92      1      2   \n",
       "\n",
       "         Ticket   Fare Cabin Embarked  \n",
       "20     PC 17603  59.40   NaN        C  \n",
       "338  C.A. 31029  31.50   NaN        S  \n",
       "250  C.A. 34651  27.75   NaN        S  "
      ]
     },
     "execution_count": 5,
     "metadata": {},
     "output_type": "execute_result"
    }
   ],
   "source": [
    "print(f\"Test shape: {test_df.shape}\")\n",
    "test_df.sample(3)"
   ]
  },
  {
   "cell_type": "markdown",
   "metadata": {},
   "source": [
    "Concatenate train and test data together to exploratory analysis"
   ]
  },
  {
   "cell_type": "code",
   "execution_count": 6,
   "metadata": {
    "execution": {
     "iopub.execute_input": "2023-10-31T07:46:12.234221Z",
     "iopub.status.busy": "2023-10-31T07:46:12.233465Z",
     "iopub.status.idle": "2023-10-31T07:46:12.256035Z",
     "shell.execute_reply": "2023-10-31T07:46:12.254456Z",
     "shell.execute_reply.started": "2023-10-31T07:46:12.234134Z"
    }
   },
   "outputs": [],
   "source": [
    "full_df = pd.concat(\n",
    "    [\n",
    "        train_df.drop([\"PassengerId\", \"Survived\"], axis=1), \n",
    "        test_df.drop([\"PassengerId\"], axis=1),\n",
    "    ]\n",
    ")\n",
    "y_train = train_df[\"Survived\"].values"
   ]
  },
  {
   "cell_type": "markdown",
   "metadata": {},
   "source": [
    "Lets check missed values"
   ]
  },
  {
   "cell_type": "code",
   "execution_count": 7,
   "metadata": {
    "execution": {
     "iopub.execute_input": "2023-10-31T07:46:12.258772Z",
     "iopub.status.busy": "2023-10-31T07:46:12.258276Z",
     "iopub.status.idle": "2023-10-31T07:46:12.274830Z",
     "shell.execute_reply": "2023-10-31T07:46:12.273446Z",
     "shell.execute_reply.started": "2023-10-31T07:46:12.258697Z"
    }
   },
   "outputs": [
    {
     "data": {
      "text/plain": [
       "Pclass         0\n",
       "Name           0\n",
       "Sex            0\n",
       "Age          263\n",
       "SibSp          0\n",
       "Parch          0\n",
       "Ticket         0\n",
       "Fare           1\n",
       "Cabin       1014\n",
       "Embarked       2\n",
       "dtype: int64"
      ]
     },
     "execution_count": 7,
     "metadata": {},
     "output_type": "execute_result"
    }
   ],
   "source": [
    "full_df.isna().sum()"
   ]
  },
  {
   "cell_type": "markdown",
   "metadata": {},
   "source": [
    "Age and Cabin have a lot of NULL values - we can ignore them.   "
   ]
  },
  {
   "cell_type": "code",
   "execution_count": 8,
   "metadata": {
    "execution": {
     "iopub.execute_input": "2023-10-31T07:46:12.277438Z",
     "iopub.status.busy": "2023-10-31T07:46:12.276951Z",
     "iopub.status.idle": "2023-10-31T07:46:12.287094Z",
     "shell.execute_reply": "2023-10-31T07:46:12.285831Z",
     "shell.execute_reply.started": "2023-10-31T07:46:12.277334Z"
    }
   },
   "outputs": [],
   "source": [
    "full_df = full_df.drop([\"Age\", \"Cabin\"], axis=1)"
   ]
  },
  {
   "cell_type": "markdown",
   "metadata": {},
   "source": [
    "Check the distribution of features below to try to fill not so big NULL valued columns"
   ]
  },
  {
   "cell_type": "code",
   "execution_count": 9,
   "metadata": {
    "execution": {
     "iopub.execute_input": "2023-10-31T07:46:12.290131Z",
     "iopub.status.busy": "2023-10-31T07:46:12.289771Z",
     "iopub.status.idle": "2023-10-31T07:46:12.937173Z",
     "shell.execute_reply": "2023-10-31T07:46:12.935566Z",
     "shell.execute_reply.started": "2023-10-31T07:46:12.290073Z"
    }
   },
   "outputs": [
    {
     "name": "stderr",
     "output_type": "stream",
     "text": [
      "/opt/conda/lib/python3.6/site-packages/numpy/lib/histograms.py:824: RuntimeWarning: invalid value encountered in greater_equal\n",
      "  keep = (tmp_a >= first_edge)\n",
      "/opt/conda/lib/python3.6/site-packages/numpy/lib/histograms.py:825: RuntimeWarning: invalid value encountered in less_equal\n",
      "  keep &= (tmp_a <= last_edge)\n"
     ]
    },
    {
     "data": {
      "image/png": "[encoded data removed]",
      "text/plain": [
       "<Figure size 720x360 with 2 Axes>"
      ]
     },
     "metadata": {
      "needs_background": "light"
     },
     "output_type": "display_data"
    }
   ],
   "source": [
    "plt.figure(figsize=(10, 5))\n",
    "plt.subplot(1, 2, 1)\n",
    "plt.hist(full_df[\"Fare\"], bins=20)\n",
    "plt.xticks(fontsize=14)\n",
    "plt.yticks(fontsize=14)\n",
    "plt.title(\"Fare distribution\", fontsize=16)\n",
    "\n",
    "plt.subplot(1, 2, 2)\n",
    "embarked_info = full_df[\"Embarked\"].value_counts()\n",
    "plt.bar(embarked_info.index, embarked_info.values)\n",
    "plt.xticks(fontsize=14)\n",
    "plt.yticks(fontsize=14)\n",
    "plt.title(\"Embarked distribution\", fontsize=16);"
   ]
  },
  {
   "cell_type": "markdown",
   "metadata": {},
   "source": [
    "Let's fill the Embarked column with more frequently value \"S\".   \n",
    "The column Fare fill with a mean value"
   ]
  },
  {
   "cell_type": "code",
   "execution_count": 10,
   "metadata": {
    "execution": {
     "iopub.execute_input": "2023-10-31T07:46:12.940154Z",
     "iopub.status.busy": "2023-10-31T07:46:12.939662Z",
     "iopub.status.idle": "2023-10-31T07:46:12.952932Z",
     "shell.execute_reply": "2023-10-31T07:46:12.951612Z",
     "shell.execute_reply.started": "2023-10-31T07:46:12.940075Z"
    }
   },
   "outputs": [],
   "source": [
    "full_df[\"Embarked\"].fillna(\"S\", inplace=True)\n",
    "full_df[\"Fare\"].fillna(full_df[\"Fare\"].mean(), inplace=True)"
   ]
  },
  {
   "cell_type": "markdown",
   "metadata": {},
   "source": [
    "Extract titles of people from their names"
   ]
  },
  {
   "cell_type": "code",
   "execution_count": 11,
   "metadata": {
    "execution": {
     "iopub.execute_input": "2023-10-31T07:46:12.955635Z",
     "iopub.status.busy": "2023-10-31T07:46:12.955177Z",
     "iopub.status.idle": "2023-10-31T07:46:12.989747Z",
     "shell.execute_reply": "2023-10-31T07:46:12.988523Z",
     "shell.execute_reply.started": "2023-10-31T07:46:12.955572Z"
    }
   },
   "outputs": [],
   "source": [
    "full_df[\"Title\"] = full_df[\"Name\"].str.extract(\" ([A-Za-z]+)\\.\")\n",
    "full_df[\"Title\"] = full_df[\"Title\"].replace([\"Ms\", \"Mlle\"], \"Miss\")\n",
    "full_df[\"Title\"] = full_df[\"Title\"].replace([\"Mme\", \"Countess\", \"Lady\", \"Dona\"], \"Mrs\")\n",
    "full_df[\"Title\"] = full_df[\"Title\"].replace([\"Dr\", \"Major\", \"Col\", \"Sir\", \"Rev\", \"Jonkheer\", \"Capt\", \"Don\"], \"Mr\")\n",
    "full_df = full_df.drop([\"Name\"], axis=1)"
   ]
  },
  {
   "cell_type": "markdown",
   "metadata": {},
   "source": [
    "Encode categories as numbers"
   ]
  },
  {
   "cell_type": "code",
   "execution_count": 12,
   "metadata": {
    "execution": {
     "iopub.execute_input": "2023-10-31T07:46:12.992879Z",
     "iopub.status.busy": "2023-10-31T07:46:12.992032Z",
     "iopub.status.idle": "2023-10-31T07:46:13.017144Z",
     "shell.execute_reply": "2023-10-31T07:46:13.015511Z",
     "shell.execute_reply.started": "2023-10-31T07:46:12.992570Z"
    }
   },
   "outputs": [],
   "source": [
    "full_df[\"Sex\"] = full_df[\"Sex\"].map({\"male\": 1, \"female\": 0}).astype(int)    \n",
    "full_df[\"Embarked\"] = full_df[\"Embarked\"].map({\"S\": 1, \"C\": 2, \"Q\": 3}).astype(int)    \n",
    "full_df['Title'] = full_df['Title'].map({\"Mr\": 0, \"Miss\": 1, \"Mrs\": 2, \"Master\": 3}).astype(int)   "
   ]
  },
  {
   "cell_type": "markdown",
   "metadata": {},
   "source": [
    "Extract ticket numbers from ticket column (some tickets have the same number - it can be useful)"
   ]
  },
  {
   "cell_type": "code",
   "execution_count": 13,
   "metadata": {
    "execution": {
     "iopub.execute_input": "2023-10-31T07:46:13.019837Z",
     "iopub.status.busy": "2023-10-31T07:46:13.019336Z",
     "iopub.status.idle": "2023-10-31T07:46:13.045507Z",
     "shell.execute_reply": "2023-10-31T07:46:13.044137Z",
     "shell.execute_reply.started": "2023-10-31T07:46:13.019753Z"
    }
   },
   "outputs": [],
   "source": [
    "full_df[\"TicketNumber\"] = full_df[\"Ticket\"].str.split()\n",
    "full_df[\"TicketNumber\"] = full_df[\"TicketNumber\"].str[-1]\n",
    "full_df[\"TicketNumber\"] = LabelEncoder().fit_transform(full_df[\"TicketNumber\"])\n",
    "full_df = full_df.drop([\"Ticket\"], axis=1)"
   ]
  },
  {
   "cell_type": "markdown",
   "metadata": {},
   "source": [
    "Create new features:\n",
    "- FamilySize - total number of family members in the ship\n",
    "- IsAlone - the person has some family or traveled alone?"
   ]
  },
  {
   "cell_type": "code",
   "execution_count": 14,
   "metadata": {
    "execution": {
     "iopub.execute_input": "2023-10-31T07:46:13.048245Z",
     "iopub.status.busy": "2023-10-31T07:46:13.047762Z",
     "iopub.status.idle": "2023-10-31T07:46:13.085598Z",
     "shell.execute_reply": "2023-10-31T07:46:13.083992Z",
     "shell.execute_reply.started": "2023-10-31T07:46:13.048171Z"
    }
   },
   "outputs": [],
   "source": [
    "full_df[\"FamilySize\"] = full_df[\"SibSp\"] + full_df[\"Parch\"] + 1\n",
    "full_df[\"IsAlone\"] = full_df[\"FamilySize\"].apply(lambda x: 1 if x == 1 else 0)"
   ]
  },
  {
   "cell_type": "code",
   "execution_count": 15,
   "metadata": {
    "execution": {
     "iopub.execute_input": "2023-10-31T07:46:13.090655Z",
     "iopub.status.busy": "2023-10-31T07:46:13.089649Z",
     "iopub.status.idle": "2023-10-31T07:46:13.114278Z",
     "shell.execute_reply": "2023-10-31T07:46:13.113171Z",
     "shell.execute_reply.started": "2023-10-31T07:46:13.090547Z"
    }
   },
   "outputs": [
    {
     "data": {
      "text/html": [
       "<div>\n",
       "<style scoped>\n",
       "    .dataframe tbody tr th:only-of-type {\n",
       "        vertical-align: middle;\n",
       "    }\n",
       "\n",
       "    .dataframe tbody tr th {\n",
       "        vertical-align: top;\n",
       "    }\n",
       "\n",
       "    .dataframe thead th {\n",
       "        text-align: right;\n",
       "    }\n",
       "</style>\n",
       "<table border=\"1\" class=\"dataframe\">\n",
       "  <thead>\n",
       "    <tr style=\"text-align: right;\">\n",
       "      <th></th>\n",
       "      <th>Pclass</th>\n",
       "      <th>Sex</th>\n",
       "      <th>SibSp</th>\n",
       "      <th>Parch</th>\n",
       "      <th>Fare</th>\n",
       "      <th>Embarked</th>\n",
       "      <th>Title</th>\n",
       "      <th>TicketNumber</th>\n",
       "      <th>FamilySize</th>\n",
       "      <th>IsAlone</th>\n",
       "    </tr>\n",
       "  </thead>\n",
       "  <tbody>\n",
       "    <tr>\n",
       "      <td>0</td>\n",
       "      <td>3</td>\n",
       "      <td>1</td>\n",
       "      <td>1</td>\n",
       "      <td>0</td>\n",
       "      <td>7.2500</td>\n",
       "      <td>1</td>\n",
       "      <td>0</td>\n",
       "      <td>209</td>\n",
       "      <td>2</td>\n",
       "      <td>0</td>\n",
       "    </tr>\n",
       "    <tr>\n",
       "      <td>1</td>\n",
       "      <td>1</td>\n",
       "      <td>0</td>\n",
       "      <td>1</td>\n",
       "      <td>0</td>\n",
       "      <td>71.2833</td>\n",
       "      <td>2</td>\n",
       "      <td>2</td>\n",
       "      <td>166</td>\n",
       "      <td>2</td>\n",
       "      <td>0</td>\n",
       "    </tr>\n",
       "    <tr>\n",
       "      <td>2</td>\n",
       "      <td>3</td>\n",
       "      <td>0</td>\n",
       "      <td>0</td>\n",
       "      <td>0</td>\n",
       "      <td>7.9250</td>\n",
       "      <td>1</td>\n",
       "      <td>1</td>\n",
       "      <td>466</td>\n",
       "      <td>1</td>\n",
       "      <td>1</td>\n",
       "    </tr>\n",
       "    <tr>\n",
       "      <td>3</td>\n",
       "      <td>1</td>\n",
       "      <td>0</td>\n",
       "      <td>1</td>\n",
       "      <td>0</td>\n",
       "      <td>53.1000</td>\n",
       "      <td>1</td>\n",
       "      <td>2</td>\n",
       "      <td>67</td>\n",
       "      <td>2</td>\n",
       "      <td>0</td>\n",
       "    </tr>\n",
       "    <tr>\n",
       "      <td>4</td>\n",
       "      <td>3</td>\n",
       "      <td>1</td>\n",
       "      <td>0</td>\n",
       "      <td>0</td>\n",
       "      <td>8.0500</td>\n",
       "      <td>1</td>\n",
       "      <td>0</td>\n",
       "      <td>832</td>\n",
       "      <td>1</td>\n",
       "      <td>1</td>\n",
       "    </tr>\n",
       "  </tbody>\n",
       "</table>\n",
       "</div>"
      ],
      "text/plain": [
       "   Pclass  Sex  SibSp  Parch     Fare  Embarked  Title  TicketNumber  \\\n",
       "0       3    1      1      0   7.2500         1      0           209   \n",
       "1       1    0      1      0  71.2833         2      2           166   \n",
       "2       3    0      0      0   7.9250         1      1           466   \n",
       "3       1    0      1      0  53.1000         1      2            67   \n",
       "4       3    1      0      0   8.0500         1      0           832   \n",
       "\n",
       "   FamilySize  IsAlone  \n",
       "0           2        0  \n",
       "1           2        0  \n",
       "2           1        1  \n",
       "3           2        0  \n",
       "4           1        1  "
      ]
     },
     "execution_count": 15,
     "metadata": {},
     "output_type": "execute_result"
    }
   ],
   "source": [
    "full_df.head()"
   ]
  },
  {
   "cell_type": "markdown",
   "metadata": {},
   "source": [
    "Let's split the data back into training and test data"
   ]
  },
  {
   "cell_type": "code",
   "execution_count": 16,
   "metadata": {
    "execution": {
     "iopub.execute_input": "2023-10-31T07:46:13.116875Z",
     "iopub.status.busy": "2023-10-31T07:46:13.116208Z",
     "iopub.status.idle": "2023-10-31T07:46:13.129671Z",
     "shell.execute_reply": "2023-10-31T07:46:13.128231Z",
     "shell.execute_reply.started": "2023-10-31T07:46:13.116802Z"
    }
   },
   "outputs": [
    {
     "name": "stdout",
     "output_type": "stream",
     "text": [
      "Train X shape: (891, 10)\n",
      "Train y shape: (891,)\n",
      "Test X shape: (418, 10)\n"
     ]
    }
   ],
   "source": [
    "X_train = full_df[:y_train.shape[0]]\n",
    "X_test = full_df[y_train.shape[0]:]\n",
    "\n",
    "print(f\"Train X shape: {X_train.shape}\")\n",
    "print(f\"Train y shape: {y_train.shape}\")\n",
    "print(f\"Test X shape: {X_test.shape}\")"
   ]
  },
  {
   "cell_type": "markdown",
   "metadata": {},
   "source": [
    "Let's create one-hot categorical representations and normalize numerical columns for the gradient-based models"
   ]
  },
  {
   "cell_type": "code",
   "execution_count": 17,
   "metadata": {
    "execution": {
     "iopub.execute_input": "2023-10-31T07:46:13.132536Z",
     "iopub.status.busy": "2023-10-31T07:46:13.131813Z",
     "iopub.status.idle": "2023-10-31T07:46:13.160050Z",
     "shell.execute_reply": "2023-10-31T07:46:13.158706Z",
     "shell.execute_reply.started": "2023-10-31T07:46:13.132459Z"
    }
   },
   "outputs": [],
   "source": [
    "one_hot_cols = [\"Embarked\", \"Title\"]\n",
    "for col in one_hot_cols:\n",
    "    full_df = pd.concat(\n",
    "        [full_df, pd.get_dummies(full_df[col], prefix=col)], \n",
    "        axis=1, \n",
    "        join=\"inner\",\n",
    "    )\n",
    "full_df = full_df.drop(one_hot_cols, axis=1)"
   ]
  },
  {
   "cell_type": "code",
   "execution_count": 18,
   "metadata": {
    "execution": {
     "iopub.execute_input": "2023-10-31T07:46:13.163187Z",
     "iopub.status.busy": "2023-10-31T07:46:13.162317Z",
     "iopub.status.idle": "2023-10-31T07:46:13.196693Z",
     "shell.execute_reply": "2023-10-31T07:46:13.195655Z",
     "shell.execute_reply.started": "2023-10-31T07:46:13.163111Z"
    }
   },
   "outputs": [],
   "source": [
    "scaler = StandardScaler()\n",
    "full_df.loc[:] = scaler.fit_transform(full_df)"
   ]
  },
  {
   "cell_type": "code",
   "execution_count": 19,
   "metadata": {
    "execution": {
     "iopub.execute_input": "2023-10-31T07:46:13.199404Z",
     "iopub.status.busy": "2023-10-31T07:46:13.198649Z",
     "iopub.status.idle": "2023-10-31T07:46:13.240508Z",
     "shell.execute_reply": "2023-10-31T07:46:13.239221Z",
     "shell.execute_reply.started": "2023-10-31T07:46:13.199302Z"
    }
   },
   "outputs": [
    {
     "data": {
      "text/html": [
       "<div>\n",
       "<style scoped>\n",
       "    .dataframe tbody tr th:only-of-type {\n",
       "        vertical-align: middle;\n",
       "    }\n",
       "\n",
       "    .dataframe tbody tr th {\n",
       "        vertical-align: top;\n",
       "    }\n",
       "\n",
       "    .dataframe thead th {\n",
       "        text-align: right;\n",
       "    }\n",
       "</style>\n",
       "<table border=\"1\" class=\"dataframe\">\n",
       "  <thead>\n",
       "    <tr style=\"text-align: right;\">\n",
       "      <th></th>\n",
       "      <th>Pclass</th>\n",
       "      <th>Sex</th>\n",
       "      <th>SibSp</th>\n",
       "      <th>Parch</th>\n",
       "      <th>Fare</th>\n",
       "      <th>TicketNumber</th>\n",
       "      <th>FamilySize</th>\n",
       "      <th>IsAlone</th>\n",
       "      <th>Embarked_1</th>\n",
       "      <th>Embarked_2</th>\n",
       "      <th>Embarked_3</th>\n",
       "      <th>Title_0</th>\n",
       "      <th>Title_1</th>\n",
       "      <th>Title_2</th>\n",
       "      <th>Title_3</th>\n",
       "    </tr>\n",
       "  </thead>\n",
       "  <tbody>\n",
       "    <tr>\n",
       "      <td>0</td>\n",
       "      <td>0.841916</td>\n",
       "      <td>0.743497</td>\n",
       "      <td>0.481288</td>\n",
       "      <td>-0.445000</td>\n",
       "      <td>-0.503595</td>\n",
       "      <td>-0.846179</td>\n",
       "      <td>0.073352</td>\n",
       "      <td>-1.233758</td>\n",
       "      <td>0.655011</td>\n",
       "      <td>-0.50977</td>\n",
       "      <td>-0.32204</td>\n",
       "      <td>0.819619</td>\n",
       "      <td>-0.502625</td>\n",
       "      <td>-0.425920</td>\n",
       "      <td>-0.221084</td>\n",
       "    </tr>\n",
       "    <tr>\n",
       "      <td>1</td>\n",
       "      <td>-1.546098</td>\n",
       "      <td>-1.344995</td>\n",
       "      <td>0.481288</td>\n",
       "      <td>-0.445000</td>\n",
       "      <td>0.734503</td>\n",
       "      <td>-1.004578</td>\n",
       "      <td>0.073352</td>\n",
       "      <td>-1.233758</td>\n",
       "      <td>-1.526692</td>\n",
       "      <td>1.96167</td>\n",
       "      <td>-0.32204</td>\n",
       "      <td>-1.220079</td>\n",
       "      <td>-0.502625</td>\n",
       "      <td>2.347858</td>\n",
       "      <td>-0.221084</td>\n",
       "    </tr>\n",
       "    <tr>\n",
       "      <td>2</td>\n",
       "      <td>0.841916</td>\n",
       "      <td>-1.344995</td>\n",
       "      <td>-0.479087</td>\n",
       "      <td>-0.445000</td>\n",
       "      <td>-0.490544</td>\n",
       "      <td>0.100529</td>\n",
       "      <td>-0.558346</td>\n",
       "      <td>0.810532</td>\n",
       "      <td>0.655011</td>\n",
       "      <td>-0.50977</td>\n",
       "      <td>-0.32204</td>\n",
       "      <td>-1.220079</td>\n",
       "      <td>1.989556</td>\n",
       "      <td>-0.425920</td>\n",
       "      <td>-0.221084</td>\n",
       "    </tr>\n",
       "    <tr>\n",
       "      <td>3</td>\n",
       "      <td>-1.546098</td>\n",
       "      <td>-1.344995</td>\n",
       "      <td>0.481288</td>\n",
       "      <td>-0.445000</td>\n",
       "      <td>0.382925</td>\n",
       "      <td>-1.369263</td>\n",
       "      <td>0.073352</td>\n",
       "      <td>-1.233758</td>\n",
       "      <td>0.655011</td>\n",
       "      <td>-0.50977</td>\n",
       "      <td>-0.32204</td>\n",
       "      <td>-1.220079</td>\n",
       "      <td>-0.502625</td>\n",
       "      <td>2.347858</td>\n",
       "      <td>-0.221084</td>\n",
       "    </tr>\n",
       "    <tr>\n",
       "      <td>4</td>\n",
       "      <td>0.841916</td>\n",
       "      <td>0.743497</td>\n",
       "      <td>-0.479087</td>\n",
       "      <td>-0.445000</td>\n",
       "      <td>-0.488127</td>\n",
       "      <td>1.448759</td>\n",
       "      <td>-0.558346</td>\n",
       "      <td>0.810532</td>\n",
       "      <td>0.655011</td>\n",
       "      <td>-0.50977</td>\n",
       "      <td>-0.32204</td>\n",
       "      <td>0.819619</td>\n",
       "      <td>-0.502625</td>\n",
       "      <td>-0.425920</td>\n",
       "      <td>-0.221084</td>\n",
       "    </tr>\n",
       "    <tr>\n",
       "      <td>...</td>\n",
       "      <td>...</td>\n",
       "      <td>...</td>\n",
       "      <td>...</td>\n",
       "      <td>...</td>\n",
       "      <td>...</td>\n",
       "      <td>...</td>\n",
       "      <td>...</td>\n",
       "      <td>...</td>\n",
       "      <td>...</td>\n",
       "      <td>...</td>\n",
       "      <td>...</td>\n",
       "      <td>...</td>\n",
       "      <td>...</td>\n",
       "      <td>...</td>\n",
       "      <td>...</td>\n",
       "    </tr>\n",
       "    <tr>\n",
       "      <td>413</td>\n",
       "      <td>0.841916</td>\n",
       "      <td>0.743497</td>\n",
       "      <td>-0.479087</td>\n",
       "      <td>-0.445000</td>\n",
       "      <td>-0.488127</td>\n",
       "      <td>0.347336</td>\n",
       "      <td>-0.558346</td>\n",
       "      <td>0.810532</td>\n",
       "      <td>0.655011</td>\n",
       "      <td>-0.50977</td>\n",
       "      <td>-0.32204</td>\n",
       "      <td>0.819619</td>\n",
       "      <td>-0.502625</td>\n",
       "      <td>-0.425920</td>\n",
       "      <td>-0.221084</td>\n",
       "    </tr>\n",
       "    <tr>\n",
       "      <td>414</td>\n",
       "      <td>-1.546098</td>\n",
       "      <td>-1.344995</td>\n",
       "      <td>-0.479087</td>\n",
       "      <td>-0.445000</td>\n",
       "      <td>1.461829</td>\n",
       "      <td>-0.938271</td>\n",
       "      <td>-0.558346</td>\n",
       "      <td>0.810532</td>\n",
       "      <td>-1.526692</td>\n",
       "      <td>1.96167</td>\n",
       "      <td>-0.32204</td>\n",
       "      <td>-1.220079</td>\n",
       "      <td>-0.502625</td>\n",
       "      <td>2.347858</td>\n",
       "      <td>-0.221084</td>\n",
       "    </tr>\n",
       "    <tr>\n",
       "      <td>415</td>\n",
       "      <td>0.841916</td>\n",
       "      <td>0.743497</td>\n",
       "      <td>-0.479087</td>\n",
       "      <td>-0.445000</td>\n",
       "      <td>-0.503595</td>\n",
       "      <td>0.026855</td>\n",
       "      <td>-0.558346</td>\n",
       "      <td>0.810532</td>\n",
       "      <td>0.655011</td>\n",
       "      <td>-0.50977</td>\n",
       "      <td>-0.32204</td>\n",
       "      <td>0.819619</td>\n",
       "      <td>-0.502625</td>\n",
       "      <td>-0.425920</td>\n",
       "      <td>-0.221084</td>\n",
       "    </tr>\n",
       "    <tr>\n",
       "      <td>416</td>\n",
       "      <td>0.841916</td>\n",
       "      <td>0.743497</td>\n",
       "      <td>-0.479087</td>\n",
       "      <td>-0.445000</td>\n",
       "      <td>-0.488127</td>\n",
       "      <td>1.183533</td>\n",
       "      <td>-0.558346</td>\n",
       "      <td>0.810532</td>\n",
       "      <td>0.655011</td>\n",
       "      <td>-0.50977</td>\n",
       "      <td>-0.32204</td>\n",
       "      <td>0.819619</td>\n",
       "      <td>-0.502625</td>\n",
       "      <td>-0.425920</td>\n",
       "      <td>-0.221084</td>\n",
       "    </tr>\n",
       "    <tr>\n",
       "      <td>417</td>\n",
       "      <td>0.841916</td>\n",
       "      <td>0.743497</td>\n",
       "      <td>0.481288</td>\n",
       "      <td>0.710763</td>\n",
       "      <td>-0.211473</td>\n",
       "      <td>-0.253105</td>\n",
       "      <td>0.705051</td>\n",
       "      <td>-1.233758</td>\n",
       "      <td>-1.526692</td>\n",
       "      <td>1.96167</td>\n",
       "      <td>-0.32204</td>\n",
       "      <td>-1.220079</td>\n",
       "      <td>-0.502625</td>\n",
       "      <td>-0.425920</td>\n",
       "      <td>4.523164</td>\n",
       "    </tr>\n",
       "  </tbody>\n",
       "</table>\n",
       "<p>1309 rows × 15 columns</p>\n",
       "</div>"
      ],
      "text/plain": [
       "       Pclass       Sex     SibSp     Parch      Fare  TicketNumber  \\\n",
       "0    0.841916  0.743497  0.481288 -0.445000 -0.503595     -0.846179   \n",
       "1   -1.546098 -1.344995  0.481288 -0.445000  0.734503     -1.004578   \n",
       "2    0.841916 -1.344995 -0.479087 -0.445000 -0.490544      0.100529   \n",
       "3   -1.546098 -1.344995  0.481288 -0.445000  0.382925     -1.369263   \n",
       "4    0.841916  0.743497 -0.479087 -0.445000 -0.488127      1.448759   \n",
       "..        ...       ...       ...       ...       ...           ...   \n",
       "413  0.841916  0.743497 -0.479087 -0.445000 -0.488127      0.347336   \n",
       "414 -1.546098 -1.344995 -0.479087 -0.445000  1.461829     -0.938271   \n",
       "415  0.841916  0.743497 -0.479087 -0.445000 -0.503595      0.026855   \n",
       "416  0.841916  0.743497 -0.479087 -0.445000 -0.488127      1.183533   \n",
       "417  0.841916  0.743497  0.481288  0.710763 -0.211473     -0.253105   \n",
       "\n",
       "     FamilySize   IsAlone  Embarked_1  Embarked_2  Embarked_3   Title_0  \\\n",
       "0      0.073352 -1.233758    0.655011    -0.50977    -0.32204  0.819619   \n",
       "1      0.073352 -1.233758   -1.526692     1.96167    -0.32204 -1.220079   \n",
       "2     -0.558346  0.810532    0.655011    -0.50977    -0.32204 -1.220079   \n",
       "3      0.073352 -1.233758    0.655011    -0.50977    -0.32204 -1.220079   \n",
       "4     -0.558346  0.810532    0.655011    -0.50977    -0.32204  0.819619   \n",
       "..          ...       ...         ...         ...         ...       ...   \n",
       "413   -0.558346  0.810532    0.655011    -0.50977    -0.32204  0.819619   \n",
       "414   -0.558346  0.810532   -1.526692     1.96167    -0.32204 -1.220079   \n",
       "415   -0.558346  0.810532    0.655011    -0.50977    -0.32204  0.819619   \n",
       "416   -0.558346  0.810532    0.655011    -0.50977    -0.32204  0.819619   \n",
       "417    0.705051 -1.233758   -1.526692     1.96167    -0.32204 -1.220079   \n",
       "\n",
       "      Title_1   Title_2   Title_3  \n",
       "0   -0.502625 -0.425920 -0.221084  \n",
       "1   -0.502625  2.347858 -0.221084  \n",
       "2    1.989556 -0.425920 -0.221084  \n",
       "3   -0.502625  2.347858 -0.221084  \n",
       "4   -0.502625 -0.425920 -0.221084  \n",
       "..        ...       ...       ...  \n",
       "413 -0.502625 -0.425920 -0.221084  \n",
       "414 -0.502625  2.347858 -0.221084  \n",
       "415 -0.502625 -0.425920 -0.221084  \n",
       "416 -0.502625 -0.425920 -0.221084  \n",
       "417 -0.502625 -0.425920  4.523164  \n",
       "\n",
       "[1309 rows x 15 columns]"
      ]
     },
     "execution_count": 19,
     "metadata": {},
     "output_type": "execute_result"
    }
   ],
   "source": [
    "full_df"
   ]
  },
  {
   "cell_type": "code",
   "execution_count": 20,
   "metadata": {
    "execution": {
     "iopub.execute_input": "2023-10-31T07:46:13.243106Z",
     "iopub.status.busy": "2023-10-31T07:46:13.242449Z",
     "iopub.status.idle": "2023-10-31T07:46:13.258091Z",
     "shell.execute_reply": "2023-10-31T07:46:13.256404Z",
     "shell.execute_reply.started": "2023-10-31T07:46:13.243029Z"
    }
   },
   "outputs": [
    {
     "name": "stdout",
     "output_type": "stream",
     "text": [
      "Train norm X shape: (891, 15)\n",
      "Train y shape: (891,)\n",
      "Test norm X shape: (418, 15)\n"
     ]
    }
   ],
   "source": [
    "X_train_norm = full_df[:y_train.shape[0]]\n",
    "X_test_norm = full_df[y_train.shape[0]:]\n",
    "\n",
    "print(f\"Train norm X shape: {X_train_norm.shape}\")\n",
    "print(f\"Train y shape: {y_train.shape}\")\n",
    "print(f\"Test norm X shape: {X_test_norm.shape}\")"
   ]
  },
  {
   "cell_type": "markdown",
   "metadata": {},
   "source": [
    "Let's highlight categorical features in one list, since they may be needed for some models"
   ]
  },
  {
   "cell_type": "code",
   "execution_count": 21,
   "metadata": {
    "execution": {
     "iopub.execute_input": "2023-10-31T07:46:13.261236Z",
     "iopub.status.busy": "2023-10-31T07:46:13.260544Z",
     "iopub.status.idle": "2023-10-31T07:46:13.268211Z",
     "shell.execute_reply": "2023-10-31T07:46:13.267008Z",
     "shell.execute_reply.started": "2023-10-31T07:46:13.261161Z"
    }
   },
   "outputs": [],
   "source": [
    "categorical_columns = ['Sex', 'Embarked', 'Title', 'TicketNumber', 'IsAlone']"
   ]
  },
  {
   "cell_type": "markdown",
   "metadata": {},
   "source": [
    "Save mean cross-validated accuracy scores of best models"
   ]
  },
  {
   "cell_type": "code",
   "execution_count": 22,
   "metadata": {
    "execution": {
     "iopub.execute_input": "2023-10-31T07:46:13.271118Z",
     "iopub.status.busy": "2023-10-31T07:46:13.270368Z",
     "iopub.status.idle": "2023-10-31T07:46:13.284200Z",
     "shell.execute_reply": "2023-10-31T07:46:13.282746Z",
     "shell.execute_reply.started": "2023-10-31T07:46:13.271021Z"
    }
   },
   "outputs": [],
   "source": [
    "cross_valid_scores = {}"
   ]
  },
  {
   "cell_type": "markdown",
   "metadata": {},
   "source": [
    "<a id=\"2\"></a>\n",
    "<h2 style='background:#7ca4cd; border:0; color:white'><center>Decision Tree<center><h2>"
   ]
  },
  {
   "cell_type": "code",
   "execution_count": 23,
   "metadata": {
    "execution": {
     "iopub.execute_input": "2023-10-31T07:46:13.287756Z",
     "iopub.status.busy": "2023-10-31T07:46:13.286825Z",
     "iopub.status.idle": "2023-10-31T07:46:13.543139Z",
     "shell.execute_reply": "2023-10-31T07:46:13.542003Z",
     "shell.execute_reply.started": "2023-10-31T07:46:13.287669Z"
    }
   },
   "outputs": [
    {
     "name": "stdout",
     "output_type": "stream",
     "text": [
      "-----\n",
      "Best parameters {'max_depth': 11}\n",
      "Mean cross-validated accuracy score of the best_estimator: 0.815\n",
      "-----\n",
      "CPU times: user 204 ms, sys: 715 µs, total: 205 ms\n",
      "Wall time: 205 ms\n"
     ]
    }
   ],
   "source": [
    "%%time\n",
    "parameters = {\n",
    "    \"max_depth\": [3, 5, 7, 9, 11, 13],\n",
    "}\n",
    "\n",
    "model_desicion_tree = DecisionTreeClassifier(\n",
    "    random_state=SEED,\n",
    "    class_weight='balanced',\n",
    ")\n",
    "\n",
    "model_desicion_tree = GridSearchCV(\n",
    "    model_desicion_tree, \n",
    "    parameters, \n",
    "    cv=5,\n",
    "    scoring='accuracy',\n",
    ")\n",
    "\n",
    "model_desicion_tree.fit(X_train, y_train)\n",
    "\n",
    "print('-----')\n",
    "print(f'Best parameters {model_desicion_tree.best_params_}')\n",
    "print(\n",
    "    f'Mean cross-validated accuracy score of the best_estimator: ' + \\\n",
    "    f'{model_desicion_tree.best_score_:.3f}'\n",
    ")\n",
    "cross_valid_scores['desicion_tree'] = model_desicion_tree.best_score_\n",
    "print('-----')"
   ]
  },
  {
   "cell_type": "markdown",
   "metadata": {},
   "source": [
    "<a id=\"3\"></a>\n",
    "<h2 style='background:#7ca4cd; border:0; color:white'><center>Random Forest<center><h2>"
   ]
  },
  {
   "cell_type": "code",
   "execution_count": 24,
   "metadata": {
    "execution": {
     "iopub.execute_input": "2023-10-31T07:46:13.546070Z",
     "iopub.status.busy": "2023-10-31T07:46:13.545559Z",
     "iopub.status.idle": "2023-10-31T07:46:18.165584Z",
     "shell.execute_reply": "2023-10-31T07:46:18.164045Z",
     "shell.execute_reply.started": "2023-10-31T07:46:13.545981Z"
    }
   },
   "outputs": [
    {
     "name": "stdout",
     "output_type": "stream",
     "text": [
      "-----\n",
      "Best parameters {'max_depth': 9, 'n_estimators': 20}\n",
      "Mean cross-validated accuracy score of the best_estimator: 0.843\n",
      "-----\n",
      "CPU times: user 4.45 s, sys: 719 µs, total: 4.45 s\n",
      "Wall time: 4.46 s\n"
     ]
    }
   ],
   "source": [
    "%%time\n",
    "parameters = {\n",
    "    \"n_estimators\": [5, 10, 15, 20, 25], \n",
    "    \"max_depth\": [3, 5, 7, 9, 11, 13],\n",
    "}\n",
    "\n",
    "model_random_forest = RandomForestClassifier(\n",
    "    random_state=SEED,\n",
    "    class_weight='balanced',\n",
    ")\n",
    "\n",
    "model_random_forest = GridSearchCV(\n",
    "    model_random_forest, \n",
    "    parameters, \n",
    "    cv=5,\n",
    "    scoring='accuracy',\n",
    ")\n",
    "\n",
    "model_random_forest.fit(X_train, y_train)\n",
    "\n",
    "print('-----')\n",
    "print(f'Best parameters {model_random_forest.best_params_}')\n",
    "print(\n",
    "    f'Mean cross-validated accuracy score of the best_estimator: '+ \\\n",
    "    f'{model_random_forest.best_score_:.3f}'\n",
    ")\n",
    "cross_valid_scores['random_forest'] = model_random_forest.best_score_\n",
    "print('-----')"
   ]
  },
  {
   "cell_type": "markdown",
   "metadata": {},
   "source": [
    "<a id=\"4\"></a>\n",
    "<h2 style='background:#7ca4cd; border:0; color:white'><center>AdaBoost<center><h2>"
   ]
  },
  {
   "cell_type": "code",
   "execution_count": 25,
   "metadata": {
    "execution": {
     "iopub.execute_input": "2023-10-31T07:46:18.167844Z",
     "iopub.status.busy": "2023-10-31T07:46:18.167480Z",
     "iopub.status.idle": "2023-10-31T07:46:30.231472Z",
     "shell.execute_reply": "2023-10-31T07:46:30.230259Z",
     "shell.execute_reply.started": "2023-10-31T07:46:18.167787Z"
    }
   },
   "outputs": [
    {
     "name": "stdout",
     "output_type": "stream",
     "text": [
      "-----\n",
      "Best parameters {'learning_rate': 1.0, 'n_estimators': 100}\n",
      "Mean cross-validated accuracy score of the best_estimator: 0.835\n",
      "-----\n",
      "CPU times: user 11.8 s, sys: 1.37 ms, total: 11.9 s\n",
      "Wall time: 11.9 s\n"
     ]
    }
   ],
   "source": [
    "%%time\n",
    "parameters = {\n",
    "    \"n_estimators\": [5, 10, 15, 20, 25, 50, 75, 100], \n",
    "    \"learning_rate\": [0.001, 0.01, 0.1, 1.],\n",
    "}\n",
    "\n",
    "model_adaboost = AdaBoostClassifier(\n",
    "    random_state=SEED,\n",
    ")\n",
    "\n",
    "model_adaboost = GridSearchCV(\n",
    "    model_adaboost, \n",
    "    parameters, \n",
    "    cv=5,\n",
    "    scoring='accuracy',\n",
    ")\n",
    "\n",
    "model_adaboost.fit(X_train, y_train)\n",
    "\n",
    "print('-----')\n",
    "print(f'Best parameters {model_adaboost.best_params_}')\n",
    "print(\n",
    "    f'Mean cross-validated accuracy score of the best_estimator: '+ \\\n",
    "    f'{model_adaboost.best_score_:.3f}'\n",
    ")\n",
    "cross_valid_scores['ada_boost'] = model_adaboost.best_score_\n",
    "print('-----')"
   ]
  },
  {
   "cell_type": "markdown",
   "metadata": {},
   "source": [
    "<a id=\"5\"></a>\n",
    "<h2 style='background:#7ca4cd; border:0; color:white'><center>XGBoost<center><h2>"
   ]
  },
  {
   "cell_type": "code",
   "execution_count": 26,
   "metadata": {
    "execution": {
     "iopub.execute_input": "2023-10-31T07:46:30.234068Z",
     "iopub.status.busy": "2023-10-31T07:46:30.233430Z",
     "iopub.status.idle": "2023-10-31T07:46:47.879423Z",
     "shell.execute_reply": "2023-10-31T07:46:47.877524Z",
     "shell.execute_reply.started": "2023-10-31T07:46:30.233995Z"
    }
   },
   "outputs": [
    {
     "name": "stdout",
     "output_type": "stream",
     "text": [
      "-----\n",
      "Best parameters {'learning_rate': 0.1, 'max_depth': 9, 'n_estimators': 50}\n",
      "Mean cross-validated accuracy score of the best_estimator: 0.848\n",
      "-----\n",
      "CPU times: user 16.9 s, sys: 278 ms, total: 17.2 s\n",
      "Wall time: 17.2 s\n"
     ]
    }
   ],
   "source": [
    "%%time\n",
    "parameters = {\n",
    "    'max_depth': [3, 5, 7, 9], \n",
    "    'n_estimators': [5, 10, 15, 20, 25, 50, 100],\n",
    "    'learning_rate': [0.01, 0.05, 0.1]\n",
    "}\n",
    "\n",
    "model_xgb = xgb.XGBClassifier(\n",
    "    random_state=SEED,\n",
    ")\n",
    "\n",
    "model_xgb = GridSearchCV(\n",
    "    model_xgb, \n",
    "    parameters, \n",
    "    cv=5,\n",
    "    scoring='accuracy',\n",
    ")\n",
    "\n",
    "model_xgb.fit(X_train, y_train)\n",
    "\n",
    "print('-----')\n",
    "print(f'Best parameters {model_xgb.best_params_}')\n",
    "print(\n",
    "    f'Mean cross-validated accuracy score of the best_estimator: ' + \n",
    "    f'{model_xgb.best_score_:.3f}'\n",
    ")\n",
    "cross_valid_scores['xgboost'] = model_xgb.best_score_\n",
    "print('-----')"
   ]
  },
  {
   "cell_type": "markdown",
   "metadata": {},
   "source": [
    "<a id=\"6\"></a>\n",
    "<h2 style='background:#7ca4cd; border:0; color:white'><center>LightGBM<center><h2>"
   ]
  },
  {
   "cell_type": "code",
   "execution_count": 27,
   "metadata": {
    "execution": {
     "iopub.execute_input": "2023-10-31T07:46:47.882590Z",
     "iopub.status.busy": "2023-10-31T07:46:47.882105Z",
     "iopub.status.idle": "2023-10-31T07:46:58.945879Z",
     "shell.execute_reply": "2023-10-31T07:46:58.944607Z",
     "shell.execute_reply.started": "2023-10-31T07:46:47.882506Z"
    }
   },
   "outputs": [
    {
     "name": "stderr",
     "output_type": "stream",
     "text": [
      "/opt/conda/lib/python3.6/site-packages/lightgbm/basic.py:1209: UserWarning: categorical_feature in Dataset is overridden.\n",
      "New categorical_feature is ['Embarked', 'IsAlone', 'Sex', 'TicketNumber', 'Title']\n",
      "  'New categorical_feature is {}'.format(sorted(list(categorical_feature))))\n"
     ]
    },
    {
     "name": "stdout",
     "output_type": "stream",
     "text": [
      "-----\n",
      "Best parameters {'learning_rate': 0.1, 'n_estimators': 50, 'num_leaves': 15}\n",
      "Mean cross-validated accuracy score of the best_estimator: 0.828\n",
      "-----\n",
      "CPU times: user 10 s, sys: 556 ms, total: 10.6 s\n",
      "Wall time: 10.6 s\n"
     ]
    }
   ],
   "source": [
    "%%time\n",
    "parameters = {\n",
    "    'n_estimators': [5, 10, 15, 20, 25, 50, 100],\n",
    "    'learning_rate': [0.01, 0.05, 0.1],\n",
    "    'num_leaves': [7, 15, 31],\n",
    "}\n",
    "\n",
    "model_lgbm = lgbm.LGBMClassifier(\n",
    "    random_state=SEED,\n",
    "    class_weight='balanced',\n",
    ")\n",
    "\n",
    "model_lgbm = GridSearchCV(\n",
    "    model_lgbm, \n",
    "    parameters, \n",
    "    cv=5,\n",
    "    scoring='accuracy',\n",
    ")\n",
    "\n",
    "model_lgbm.fit(\n",
    "    X_train, \n",
    "    y_train, \n",
    "    categorical_feature=categorical_columns\n",
    ")\n",
    "\n",
    "print('-----')\n",
    "print(f'Best parameters {model_lgbm.best_params_}')\n",
    "print(\n",
    "    f'Mean cross-validated accuracy score of the best_estimator: ' + \n",
    "    f'{model_lgbm.best_score_:.3f}'\n",
    ")\n",
    "cross_valid_scores['lightgbm'] = model_lgbm.best_score_\n",
    "print('-----')"
   ]
  },
  {
   "cell_type": "markdown",
   "metadata": {},
   "source": [
    "<a id=\"7\"></a>\n",
    "<h2 style='background:#7ca4cd; border:0; color:white'><center>CatBoost<center><h2>"
   ]
  },
  {
   "cell_type": "code",
   "execution_count": 28,
   "metadata": {
    "execution": {
     "iopub.execute_input": "2023-10-31T07:46:58.948326Z",
     "iopub.status.busy": "2023-10-31T07:46:58.947961Z",
     "iopub.status.idle": "2023-10-31T07:50:08.485564Z",
     "shell.execute_reply": "2023-10-31T07:50:08.484218Z",
     "shell.execute_reply.started": "2023-10-31T07:46:58.948265Z"
    }
   },
   "outputs": [
    {
     "name": "stdout",
     "output_type": "stream",
     "text": [
      "-----\n",
      "Best parameters {'depth': 11, 'iterations': 100, 'learning_rate': 0.1}\n",
      "Mean cross-validated accuracy score of the best_estimator: 0.842\n",
      "-----\n",
      "CPU times: user 4min 3s, sys: 37.4 s, total: 4min 41s\n",
      "Wall time: 2min 33s\n"
     ]
    }
   ],
   "source": [
    "%%time\n",
    "parameters = {\n",
    "    'iterations': [5, 10, 15, 20, 25, 50, 100],\n",
    "    'learning_rate': [0.01, 0.05, 0.1],\n",
    "    'depth': [3, 5, 7, 9, 11, 13],\n",
    "}\n",
    "\n",
    "model_catboost = cb.CatBoostClassifier(\n",
    "    verbose=False,\n",
    ")\n",
    "\n",
    "model_catboost = GridSearchCV(\n",
    "    model_catboost, \n",
    "    parameters, \n",
    "    cv=5,\n",
    "    scoring='accuracy',\n",
    ")\n",
    "\n",
    "model_catboost.fit(X_train, y_train)\n",
    "\n",
    "print('-----')\n",
    "print(f'Best parameters {model_catboost.best_params_}')\n",
    "print(\n",
    "    f'Mean cross-validated accuracy score of the best_estimator: ' + \n",
    "    f'{model_catboost.best_score_:.3f}'\n",
    ")\n",
    "cross_valid_scores['catboost'] = model_catboost.best_score_\n",
    "print('-----')"
   ]
  },
  {
   "cell_type": "markdown",
   "metadata": {},
   "source": [
    "<a id=\"8\"></a>\n",
    "<h2 style='background:#7ca4cd; border:0; color:white'><center>Logistic Regression<center><h2>"
   ]
  },
  {
   "cell_type": "code",
   "execution_count": 29,
   "metadata": {
    "execution": {
     "iopub.execute_input": "2023-10-31T07:50:08.488565Z",
     "iopub.status.busy": "2023-10-31T07:50:08.488096Z",
     "iopub.status.idle": "2023-10-31T07:50:08.910532Z",
     "shell.execute_reply": "2023-10-31T07:50:08.909166Z",
     "shell.execute_reply.started": "2023-10-31T07:50:08.488485Z"
    }
   },
   "outputs": [
    {
     "name": "stdout",
     "output_type": "stream",
     "text": [
      "-----\n",
      "Best parameters {'C': 0.01, 'penalty': 'l2'}\n",
      "Mean cross-validated accuracy score of the best_estimator: 0.801\n",
      "-----\n",
      "CPU times: user 379 ms, sys: 0 ns, total: 379 ms\n",
      "Wall time: 380 ms\n"
     ]
    }
   ],
   "source": [
    "%%time\n",
    "parameters = {\n",
    "    \"C\": [0.001, 0.01, 0.1, 1.],\n",
    "    \"penalty\": [\"l1\", \"l2\"]\n",
    "}\n",
    "\n",
    "model_logistic_regression = LogisticRegression(\n",
    "    random_state=SEED,\n",
    "    class_weight=\"balanced\",\n",
    "    solver=\"liblinear\",\n",
    ")\n",
    "\n",
    "model_logistic_regression = GridSearchCV(\n",
    "    model_logistic_regression, \n",
    "    parameters, \n",
    "    cv=5,\n",
    "    scoring='accuracy',\n",
    ")\n",
    "\n",
    "model_logistic_regression.fit(X_train_norm, y_train)\n",
    "\n",
    "print('-----')\n",
    "print(f'Best parameters {model_logistic_regression.best_params_}')\n",
    "print(\n",
    "    f'Mean cross-validated accuracy score of the best_estimator: ' + \n",
    "    f'{model_logistic_regression.best_score_:.3f}'\n",
    ")\n",
    "cross_valid_scores['logistic_regression'] = model_logistic_regression.best_score_\n",
    "print('-----')"
   ]
  },
  {
   "cell_type": "markdown",
   "metadata": {},
   "source": [
    "<a id=\"9\"></a>\n",
    "<h2 style='background:#7ca4cd; border:0; color:white'><center>SVC<center><h2>"
   ]
  },
  {
   "cell_type": "code",
   "execution_count": 30,
   "metadata": {
    "execution": {
     "iopub.execute_input": "2023-10-31T07:50:08.912942Z",
     "iopub.status.busy": "2023-10-31T07:50:08.912532Z",
     "iopub.status.idle": "2023-10-31T07:50:27.328917Z",
     "shell.execute_reply": "2023-10-31T07:50:27.327418Z",
     "shell.execute_reply.started": "2023-10-31T07:50:08.912870Z"
    }
   },
   "outputs": [
    {
     "name": "stdout",
     "output_type": "stream",
     "text": [
      "-----\n",
      "Best parameters {'C': 0.1, 'gamma': 'scale', 'kernel': 'poly'}\n",
      "Mean cross-validated accuracy score of the best_estimator: 0.827\n",
      "-----\n",
      "CPU times: user 18.1 s, sys: 0 ns, total: 18.1 s\n",
      "Wall time: 18.1 s\n"
     ]
    },
    {
     "name": "stderr",
     "output_type": "stream",
     "text": [
      "/opt/conda/lib/python3.6/site-packages/sklearn/model_selection/_search.py:814: DeprecationWarning: The default of the `iid` parameter will change from True to False in version 0.22 and will be removed in 0.24. This will change numeric results when test-set sizes are unequal.\n",
      "  DeprecationWarning)\n"
     ]
    }
   ],
   "source": [
    "%%time\n",
    "parameters = {\n",
    "    \"C\": [0.001, 0.01, 0.1, 1.],\n",
    "    \"kernel\": [\"linear\", \"poly\", \"rbf\", \"sigmoid\"],\n",
    "    \"gamma\": [\"scale\", \"auto\"],\n",
    "}\n",
    "\n",
    "model_svc = SVC(\n",
    "    random_state=SEED,\n",
    "    class_weight=\"balanced\",\n",
    "    probability=True,\n",
    ")\n",
    "\n",
    "model_svc = GridSearchCV(\n",
    "    model_svc, \n",
    "    parameters, \n",
    "    cv=5,\n",
    "    scoring='accuracy',\n",
    ")\n",
    "\n",
    "model_svc.fit(X_train_norm, y_train)\n",
    "\n",
    "print('-----')\n",
    "print(f'Best parameters {model_svc.best_params_}')\n",
    "print(\n",
    "    f'Mean cross-validated accuracy score of the best_estimator: ' + \n",
    "    f'{model_svc.best_score_:.3f}'\n",
    ")\n",
    "cross_valid_scores['svc'] = model_svc.best_score_\n",
    "print('-----')"
   ]
  },
  {
   "cell_type": "markdown",
   "metadata": {},
   "source": [
    "<a id=\"10\"></a>\n",
    "<h2 style='background:#7ca4cd; border:0; color:white'><center>K-Nearest Neighbors<center><h2>"
   ]
  },
  {
   "cell_type": "code",
   "execution_count": 31,
   "metadata": {
    "execution": {
     "iopub.execute_input": "2023-10-31T07:50:27.331803Z",
     "iopub.status.busy": "2023-10-31T07:50:27.331267Z",
     "iopub.status.idle": "2023-10-31T07:50:27.474775Z",
     "shell.execute_reply": "2023-10-31T07:50:27.473776Z",
     "shell.execute_reply.started": "2023-10-31T07:50:27.331712Z"
    }
   },
   "outputs": [
    {
     "name": "stdout",
     "output_type": "stream",
     "text": [
      "-----\n",
      "Best parameters {'weights': 'uniform'}\n",
      "Mean cross-validated accuracy score of the best_estimator: 0.816\n",
      "-----\n",
      "CPU times: user 111 ms, sys: 0 ns, total: 111 ms\n",
      "Wall time: 113 ms\n"
     ]
    }
   ],
   "source": [
    "%%time\n",
    "parameters = {\n",
    "    \"weights\": [\"uniform\", \"distance\"],\n",
    "}\n",
    "\n",
    "model_k_neighbors = KNeighborsClassifier(\n",
    ")\n",
    "\n",
    "model_k_neighbors = GridSearchCV(\n",
    "    model_k_neighbors, \n",
    "    parameters, \n",
    "    cv=5,\n",
    "    scoring='accuracy',\n",
    ")\n",
    "\n",
    "model_k_neighbors.fit(X_train_norm, y_train)\n",
    "\n",
    "print('-----')\n",
    "print(f'Best parameters {model_k_neighbors.best_params_}')\n",
    "print(\n",
    "    f'Mean cross-validated accuracy score of the best_estimator: ' + \n",
    "    f'{model_k_neighbors.best_score_:.3f}'\n",
    ")\n",
    "cross_valid_scores['k_neighbors'] = model_k_neighbors.best_score_\n",
    "print('-----')"
   ]
  },
  {
   "cell_type": "markdown",
   "metadata": {},
   "source": [
    "<a id=\"100\"></a>\n",
    "<h2 style='background:#7ca4cd; border:0; color:white'><center>Submission<center><h2>"
   ]
  },
  {
   "cell_type": "code",
   "execution_count": 32,
   "metadata": {
    "execution": {
     "iopub.execute_input": "2023-10-31T07:50:27.480569Z",
     "iopub.status.busy": "2023-10-31T07:50:27.480199Z",
     "iopub.status.idle": "2023-10-31T07:50:27.500447Z",
     "shell.execute_reply": "2023-10-31T07:50:27.498236Z",
     "shell.execute_reply.started": "2023-10-31T07:50:27.480517Z"
    }
   },
   "outputs": [
    {
     "data": {
      "text/html": [
       "<div>\n",
       "<style scoped>\n",
       "    .dataframe tbody tr th:only-of-type {\n",
       "        vertical-align: middle;\n",
       "    }\n",
       "\n",
       "    .dataframe tbody tr th {\n",
       "        vertical-align: top;\n",
       "    }\n",
       "\n",
       "    .dataframe thead th {\n",
       "        text-align: right;\n",
       "    }\n",
       "</style>\n",
       "<table border=\"1\" class=\"dataframe\">\n",
       "  <thead>\n",
       "    <tr style=\"text-align: right;\">\n",
       "      <th></th>\n",
       "      <th>cross_valid_score</th>\n",
       "    </tr>\n",
       "  </thead>\n",
       "  <tbody>\n",
       "    <tr>\n",
       "      <td>desicion_tree</td>\n",
       "      <td>0.814815</td>\n",
       "    </tr>\n",
       "    <tr>\n",
       "      <td>random_forest</td>\n",
       "      <td>0.842873</td>\n",
       "    </tr>\n",
       "    <tr>\n",
       "      <td>ada_boost</td>\n",
       "      <td>0.835017</td>\n",
       "    </tr>\n",
       "    <tr>\n",
       "      <td>xgboost</td>\n",
       "      <td>0.848485</td>\n",
       "    </tr>\n",
       "    <tr>\n",
       "      <td>lightgbm</td>\n",
       "      <td>0.828283</td>\n",
       "    </tr>\n",
       "    <tr>\n",
       "      <td>catboost</td>\n",
       "      <td>0.841751</td>\n",
       "    </tr>\n",
       "    <tr>\n",
       "      <td>logistic_regression</td>\n",
       "      <td>0.801347</td>\n",
       "    </tr>\n",
       "    <tr>\n",
       "      <td>svc</td>\n",
       "      <td>0.827160</td>\n",
       "    </tr>\n",
       "    <tr>\n",
       "      <td>k_neighbors</td>\n",
       "      <td>0.815937</td>\n",
       "    </tr>\n",
       "  </tbody>\n",
       "</table>\n",
       "</div>"
      ],
      "text/plain": [
       "                     cross_valid_score\n",
       "desicion_tree                 0.814815\n",
       "random_forest                 0.842873\n",
       "ada_boost                     0.835017\n",
       "xgboost                       0.848485\n",
       "lightgbm                      0.828283\n",
       "catboost                      0.841751\n",
       "logistic_regression           0.801347\n",
       "svc                           0.827160\n",
       "k_neighbors                   0.815937"
      ]
     },
     "execution_count": 32,
     "metadata": {},
     "output_type": "execute_result"
    }
   ],
   "source": [
    "pd.DataFrame(cross_valid_scores, index=['cross_valid_score']).T"
   ]
  },
  {
   "cell_type": "code",
   "execution_count": 33,
   "metadata": {
    "execution": {
     "iopub.execute_input": "2023-10-31T07:51:23.300279Z",
     "iopub.status.busy": "2023-10-31T07:51:23.299857Z",
     "iopub.status.idle": "2023-10-31T07:51:23.308848Z",
     "shell.execute_reply": "2023-10-31T07:51:23.307478Z",
     "shell.execute_reply.started": "2023-10-31T07:51:23.300221Z"
    }
   },
   "outputs": [],
   "source": [
    "def create_submission(model, X_test, test_passenger_id, model_name):\n",
    "    y_pred_test = model.predict_proba(X_test)[:, 1]\n",
    "    submission = pd.DataFrame(\n",
    "        {\n",
    "            'PassengerId': test_passenger_id, \n",
    "            'Survived': (y_pred_test >= 0.5).astype(int),\n",
    "        }\n",
    "    )\n",
    "    submission.to_csv(f\"submission_{model_name}.csv\", index=False)\n",
    "    \n",
    "    return y_pred_test"
   ]
  },
  {
   "cell_type": "code",
   "execution_count": 34,
   "metadata": {
    "execution": {
     "iopub.execute_input": "2023-10-31T07:50:27.517501Z",
     "iopub.status.busy": "2023-10-31T07:50:27.517147Z",
     "iopub.status.idle": "2023-10-31T07:50:30.241700Z",
     "shell.execute_reply": "2023-10-31T07:50:30.240492Z",
     "shell.execute_reply.started": "2023-10-31T07:50:27.517440Z"
    }
   },
   "outputs": [],
   "source": [
    "test_pred_decision_tree = create_submission(\n",
    "    model_desicion_tree, X_test, test_df[\"PassengerId\"], \"decision_tree\"\n",
    ")\n",
    "test_pred_random_forest = create_submission(\n",
    "    model_random_forest, X_test, test_df[\"PassengerId\"], \"random_forest\"\n",
    ")\n",
    "test_pred_adaboost = create_submission(\n",
    "    model_adaboost, X_test, test_df[\"PassengerId\"], \"adaboost\"\n",
    ")\n",
    "test_pred_xgboost = create_submission(\n",
    "    model_xgb, X_test, test_df[\"PassengerId\"], \"xgboost\"\n",
    ")\n",
    "test_pred_lightgbm = create_submission(\n",
    "    model_lgbm, X_test, test_df[\"PassengerId\"], \"lightgbm\"\n",
    ")\n",
    "test_pred_catboost = create_submission(\n",
    "    model_catboost, X_test, test_df[\"PassengerId\"], \"catboost\"\n",
    ")\n",
    "test_pred_logistic_regression = create_submission(\n",
    "    model_logistic_regression, X_test_norm, test_df[\"PassengerId\"], \"logistic_regression\"\n",
    ")\n",
    "test_pred_svc = create_submission(\n",
    "    model_svc, X_test_norm, test_df[\"PassengerId\"], \"svc\"\n",
    ")\n",
    "test_pred_k_neighbors = create_submission(\n",
    "    model_k_neighbors, X_test_norm, test_df[\"PassengerId\"], \"k_neighbors\"\n",
    ")"
   ]
  },
  {
   "cell_type": "code",
   "execution_count": 35,
   "metadata": {
    "execution": {
     "iopub.execute_input": "2023-10-31T07:50:30.244162Z",
     "iopub.status.busy": "2023-10-31T07:50:30.243757Z",
     "iopub.status.idle": "2023-10-31T07:50:30.251346Z",
     "shell.execute_reply": "2023-10-31T07:50:30.249918Z",
     "shell.execute_reply.started": "2023-10-31T07:50:30.244082Z"
    }
   },
   "outputs": [],
   "source": [
    "test_pred_merged = (\n",
    "    test_pred_decision_tree + \n",
    "    test_pred_random_forest + \n",
    "    test_pred_adaboost +\n",
    "    test_pred_xgboost + \n",
    "    test_pred_lightgbm + \n",
    "    test_pred_catboost +\n",
    "    test_pred_logistic_regression + \n",
    "    test_pred_svc +\n",
    "    test_pred_k_neighbors\n",
    ")\n",
    "test_pred_merged = np.round(test_pred_merged / 9)"
   ]
  },
  {
   "cell_type": "code",
   "execution_count": 36,
   "metadata": {
    "execution": {
     "iopub.execute_input": "2023-10-31T07:50:30.253959Z",
     "iopub.status.busy": "2023-10-31T07:50:30.253507Z",
     "iopub.status.idle": "2023-10-31T07:50:30.271935Z",
     "shell.execute_reply": "2023-10-31T07:50:30.270603Z",
     "shell.execute_reply.started": "2023-10-31T07:50:30.253879Z"
    }
   },
   "outputs": [],
   "source": [
    "submission = pd.DataFrame(\n",
    "    {\n",
    "        'PassengerId': test_df[\"PassengerId\"], \n",
    "        'Survived': test_pred_merged.astype(int),\n",
    "    }\n",
    ")\n",
    "submission.to_csv(f\"submission_merged.csv\", index=False)"
   ]
  },
  {
   "cell_type": "code",
   "execution_count": null,
   "metadata": {},
   "outputs": [],
   "source": []
  }
 ],
 "metadata": {
  "kernelspec": {
   "display_name": "Python 3",
   "language": "python",
   "name": "python3"
  },
  "language_info": {
   "codemirror_mode": {
    "name": "ipython",
    "version": 3
   },
   "file_extension": ".py",
   "mimetype": "text/x-python",
   "name": "python",
   "nbconvert_exporter": "python",
   "pygments_lexer": "ipython3",
   "version": "3.6.6"
  }
 },
 "nbformat": 4,
 "nbformat_minor": 4
}
